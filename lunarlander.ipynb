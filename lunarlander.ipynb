{
  "nbformat": 4,
  "nbformat_minor": 0,
  "metadata": {
    "colab": {
      "provenance": [],
      "authorship_tag": "ABX9TyNptolkXgN80wsllV8f8A1T",
      "include_colab_link": true
    },
    "kernelspec": {
      "name": "python3",
      "display_name": "Python 3"
    },
    "language_info": {
      "name": "python"
    }
  },
  "cells": [
    {
      "cell_type": "markdown",
      "metadata": {
        "id": "view-in-github",
        "colab_type": "text"
      },
      "source": [
        "<a href=\"https://colab.research.google.com/github/Shiftscorp29/Lunar-Lander/blob/main/lunarlander.ipynb\" target=\"_parent\"><img src=\"https://colab.research.google.com/assets/colab-badge.svg\" alt=\"Open In Colab\"/></a>"
      ]
    },
    {
      "cell_type": "code",
      "execution_count": null,
      "metadata": {
        "id": "7Yh6N6FcVEzB"
      },
      "outputs": [],
      "source": [
        "!rm -f shiftscorp_lunarlander.py\n",
        "!wget -O shiftscorp_lunarlander.py https://raw.githubusercontent.com/Shiftscorp29/Lunar-Lander/main/shiftscorp_lunarlander.py\n",
        "!pip install gymnasium\n",
        "!pip install \"gymnasium[atari, accept-rom-license]\"\n",
        "!apt-get install -y swig\n",
        "!pip install gymnasium[box2d]\n",
        "!python shiftscorp_lunarlander.py"
      ]
    }
  ]
}
